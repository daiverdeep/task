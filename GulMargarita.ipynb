{
 "cells": [
  {
   "cell_type": "code",
   "execution_count": 535,
   "metadata": {},
   "outputs": [
    {
     "name": "stdout",
     "output_type": "stream",
     "text": [
      "[nltk_data] Downloading package stopwords to\n",
      "[nltk_data]     C:\\Users\\Пользователь\\AppData\\Roaming\\nltk_data...\n",
      "[nltk_data]   Package stopwords is already up-to-date!\n",
      "[nltk_data] Downloading package punkt to\n",
      "[nltk_data]     C:\\Users\\Пользователь\\AppData\\Roaming\\nltk_data...\n",
      "[nltk_data]   Package punkt is already up-to-date!\n"
     ]
    }
   ],
   "source": [
    "import lxml.html\n",
    "import lxml.etree\n",
    "import requests\n",
    "import re\n",
    "import nltk\n",
    "from nltk.tokenize import sent_tokenize, word_tokenize\n",
    "from nltk.corpus import stopwords\n",
    "from collections import defaultdict, Counter \n",
    "nltk.download('stopwords')\n",
    "nltk.download('punkt')\n",
    "import pandas as pd\n",
    "from nltk.stem.snowball import RussianStemmer \n",
    "rs = RussianStemmer()\n",
    "import numpy as np\n",
    "import matplotlib.pyplot as plt"
   ]
  },
  {
   "cell_type": "code",
   "execution_count": 499,
   "metadata": {},
   "outputs": [],
   "source": [
    "state=requests.get('https://ru.wikipedia.org/wiki/Фильм')\n",
    "data=lxml.html.fromstring(state.text)\n",
    "headers=data.xpath('//h2/span/@id')[:-5]\n",
    "texts=data.xpath('//h2/span[contains(@class,mw-headline)]/@id|//h2/following::p/text()|//h2/following::p/a/text()')\n"
   ]
  },
  {
   "cell_type": "code",
   "execution_count": 500,
   "metadata": {},
   "outputs": [],
   "source": [
    "stopWords = set(stopwords.words('russian'))\n",
    "def calc_tf_dict(doc):\n",
    "    c = Counter()\n",
    "    for word in doc:\n",
    "        c[word] += 1\n",
    "    return c "
   ]
  },
  {
   "cell_type": "code",
   "execution_count": 514,
   "metadata": {},
   "outputs": [],
   "source": [
    "temp=[]\n",
    "docs=[]\n",
    "temp3=[]\n",
    "dicts=[]\n",
    "i=0\n",
    "j=2\n",
    "reg=re.compile('[^а-яА-Яё]')\n",
    "for text in texts:\n",
    "    if j>=len(headers):\n",
    "        break\n",
    "    if text==headers[j]:\n",
    "        docs.append(' '.join(temp))\n",
    "        temp0=str.lower(reg.sub(' ',docs[i]))\n",
    "        temp2=word_tokenize(temp0)\n",
    "        for word in temp2:\n",
    "            if word not in stopWords:\n",
    "                temp3.append(rs.stem(word))\n",
    "        dts=dict(calc_tf_dict(temp3))\n",
    "        dicts.append(dts)\n",
    "        temp=[]\n",
    "        temp3=[]\n",
    "        i+=1\n",
    "        j+=2\n",
    "        continue\n",
    "    else:\n",
    "        temp.append(text)"
   ]
  },
  {
   "cell_type": "code",
   "execution_count": 574,
   "metadata": {},
   "outputs": [
    {
     "data": {
      "text/plain": [
       "[<matplotlib.lines.Line2D at 0x7a556fe6a0>]"
      ]
     },
     "execution_count": 574,
     "metadata": {},
     "output_type": "execute_result"
    },
    {
     "data": {
      "image/png": "[encoded data removed]",
      "text/plain": [
       "<Figure size 432x288 with 1 Axes>"
      ]
     },
     "metadata": {
      "needs_background": "light"
     },
     "output_type": "display_data"
    }
   ],
   "source": [
    "n=len(dicts)-1\n",
    "xlabels = []\n",
    "y=np.ones(n)\n",
    "x=np.arange(n)\n",
    "for i in range(n):\n",
    "    shared_keys = set(dicts[i].keys()) & set(dicts[i+1].keys())\n",
    "    lenght1=len(dicts[i])+len(dicts[i+1])\n",
    "    lenght2=len(shared_keys) \n",
    "    y[i]=lenght2/lenght1\n",
    "    xlabels.append(str([i+1,i+2]))\n",
    "plt.xticks(x,xlabels)\n",
    "plt.xlabel('Подстатьи')\n",
    "plt.ylabel('Доля общих слов')\n",
    "plt.plot(x,y) "
   ]
  },
  {
   "cell_type": "code",
   "execution_count": null,
   "metadata": {},
   "outputs": [],
   "source": []
  }
 ],
 "metadata": {
  "kernelspec": {
   "display_name": "Python 3",
   "language": "python",
   "name": "python3"
  },
  "language_info": {
   "codemirror_mode": {
    "name": "ipython",
    "version": 3
   },
   "file_extension": ".py",
   "mimetype": "text/x-python",
   "name": "python",
   "nbconvert_exporter": "python",
   "pygments_lexer": "ipython3",
   "version": "3.7.0"
  }
 },
 "nbformat": 4,
 "nbformat_minor": 2
}
